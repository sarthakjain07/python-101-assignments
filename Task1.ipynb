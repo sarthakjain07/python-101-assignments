{
  "nbformat": 4,
  "nbformat_minor": 0,
  "metadata": {
    "colab": {
      "name": "Task1.ipynb",
      "provenance": []
    },
    "kernelspec": {
      "name": "python3",
      "display_name": "Python 3"
    }
  },
  "cells": [
    {
      "cell_type": "markdown",
      "metadata": {
        "id": "iPvbpTJAygdL"
      },
      "source": [
        "1. Python program to find the largest number in a list."
      ]
    },
    {
      "cell_type": "code",
      "metadata": {
        "id": "0a1sMNCa596p",
        "outputId": "2d84fe51-a2ac-4d23-e09d-86f2487dec25",
        "colab": {
          "base_uri": "https://localhost:8080/"
        }
      },
      "source": [
        "def maxEle(lst):\n",
        "    return max(lst)\n",
        "\n",
        "if __name__==\"__main__\":\n",
        "    List=[7,25,6,100,85]\n",
        "    num=maxEle(List)\n",
        "    print(\"The max element of list is\",num)"
      ],
      "execution_count": 7,
      "outputs": [
        {
          "output_type": "stream",
          "text": [
            "The max element of list is 100\n"
          ],
          "name": "stdout"
        }
      ]
    },
    {
      "cell_type": "markdown",
      "metadata": {
        "id": "UJoHu228AD_O"
      },
      "source": [
        "2. To find the second largest number in a list."
      ]
    },
    {
      "cell_type": "code",
      "metadata": {
        "id": "wDQp4354AMXi",
        "outputId": "139fae66-a19a-4212-a88e-d8eb70b835ee",
        "colab": {
          "base_uri": "https://localhost:8080/"
        }
      },
      "source": [
        "def secondLargest(lst):\n",
        "    lst.sort()\n",
        "    second_largest=len(lst)-lst.count(max(lst))\n",
        "    return lst[second_largest-1]\n",
        "\n",
        "if __name__==\"__main__\":\n",
        "    List=[7,25,6,100,85]\n",
        "    num=secondLargest(List)\n",
        "    print(\"The second laregest element of list is\",num)"
      ],
      "execution_count": 26,
      "outputs": [
        {
          "output_type": "stream",
          "text": [
            "The second laregest element of list is 85\n"
          ],
          "name": "stdout"
        }
      ]
    },
    {
      "cell_type": "markdown",
      "metadata": {
        "id": "ixri7keVFECk"
      },
      "source": [
        "3. Python program to merge two list and sort it."
      ]
    },
    {
      "cell_type": "code",
      "metadata": {
        "id": "7rdl90k0FYWg",
        "outputId": "b297aabc-0074-447f-eb2c-e1561ad4143b",
        "colab": {
          "base_uri": "https://localhost:8080/"
        }
      },
      "source": [
        "def mergesortList(list1,list2):\n",
        "    lst=list1+list2\n",
        "    lst.sort()\n",
        "    return lst\n",
        "\n",
        "if __name__==\"__main__\":\n",
        "    list1=[5,8,1,9,11]\n",
        "    list2=[6,7,2,10,12]\n",
        "    lst=mergesortList(list1,list2)\n",
        "    print(\"The merged and sorted list is\",lst)"
      ],
      "execution_count": 27,
      "outputs": [
        {
          "output_type": "stream",
          "text": [
            "The merged and sorted list is [1, 2, 5, 6, 7, 8, 9, 10, 11, 12]\n"
          ],
          "name": "stdout"
        }
      ]
    },
    {
      "cell_type": "markdown",
      "metadata": {
        "id": "9rPVmb3pJCNf"
      },
      "source": [
        "4. Python program to swap the first and last value of a list."
      ]
    },
    {
      "cell_type": "code",
      "metadata": {
        "id": "paamh1kBJMuG",
        "outputId": "eaeb814c-f625-4fde-8401-d16ac5c43837",
        "colab": {
          "base_uri": "https://localhost:8080/"
        }
      },
      "source": [
        "def swapList(l):\n",
        "    n=len(l)\n",
        "    l[0],l[n-1]=l[n-1],l[0]\n",
        "    return l\n",
        "\n",
        "if __name__==\"__main__\":\n",
        "    lst=[5,8,1,9,11]\n",
        "    swap_list=swapList(lst)\n",
        "    print(\"List after swapping first and last element is\",swap_list)"
      ],
      "execution_count": 28,
      "outputs": [
        {
          "output_type": "stream",
          "text": [
            "List after swapping first and last element is [11, 8, 1, 9, 5]\n"
          ],
          "name": "stdout"
        }
      ]
    }
  ]
}